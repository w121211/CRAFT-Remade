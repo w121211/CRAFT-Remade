{
 "cells": [
  {
   "cell_type": "code",
   "execution_count": 84,
   "metadata": {},
   "outputs": [
    {
     "name": "stdout",
     "output_type": "stream",
     "text": [
      "Collecting shapely[vectorized]\n",
      "\u001b[?25l  Downloading https://files.pythonhosted.org/packages/38/b6/b53f19062afd49bb5abd049aeed36f13bf8d57ef8f3fa07a5203531a0252/Shapely-1.6.4.post2-cp36-cp36m-manylinux1_x86_64.whl (1.5MB)\n",
      "\u001b[K     |################################| 1.5MB 1.1MB/s eta 0:00:01    |                                | 30kB 724kB/s eta 0:00:02     |################                | 768kB 1.1MB/s eta 0:00:01     |##########################      | 1.2MB 1.1MB/s eta 0:00:01\n",
      "\u001b[?25hRequirement already satisfied: numpy; extra == \"vectorized\" in /opt/conda/lib/python3.6/site-packages (from shapely[vectorized]) (1.16.5)\n",
      "Installing collected packages: shapely\n",
      "Successfully installed shapely-1.6.4.post2\n"
     ]
    }
   ],
   "source": [
    "!pip install shapely[vectorized]"
   ]
  },
  {
   "cell_type": "code",
   "execution_count": 140,
   "metadata": {},
   "outputs": [
    {
     "data": {
      "image/png": "[encoded data removed]",
      "text/plain": [
       "<Figure size 432x288 with 1 Axes>"
      ]
     },
     "metadata": {
      "needs_background": "light"
     },
     "output_type": "display_data"
    }
   ],
   "source": [
    "import matplotlib.pyplot as plt\n",
    "\n",
    "import numpy as np\n",
    "from scipy.stats import multivariate_normal\n",
    "\n",
    "sigma = 10\n",
    "spread = 3\n",
    "extent = int(spread * sigma)\n",
    "\n",
    "# norm = multivariate_normal(mean=(extent, extent), cov=(60, 60))\n",
    "\n",
    "# x = np.linspace(0, 3, 3)\n",
    "# y = np.linspace(0, 3, 3)\n",
    "# xxyy = np.c_[x, y]\n",
    "# xxyy\n",
    "\n",
    "heatmap = np.zeros([2 * extent, 2 * extent], dtype=np.float32)\n",
    "for i in range(2 * extent):\n",
    "    for j in range(2 * extent):\n",
    "        heatmap[i, j] = (\n",
    "            1\n",
    "            / 2\n",
    "            / np.pi\n",
    "            / (sigma ** 2)\n",
    "            * np.exp(\n",
    "                -1\n",
    "                / 2\n",
    "                * ((i - spread * sigma - 0.5) ** 2 + (j - spread * sigma - 0.5) ** 2)\n",
    "                / (sigma ** 2)\n",
    "            )\n",
    "        )\n",
    "\n",
    "plt.imshow(heatmap)\n",
    "plt.show()\n",
    "\n",
    "# sigma = 10\n",
    "\n",
    "# 1 / 2 / np.pi / (sigma ** 2), 1 / (2 * np.pi * sigma ** 2)\n",
    "# 1 / 2 / 3 == 1 / (2 * 3)\n",
    "# 3 * 4 ** 2 == 3 * (4 ** 2)"
   ]
  },
  {
   "cell_type": "code",
   "execution_count": 95,
   "metadata": {},
   "outputs": [
    {
     "data": {
      "text/plain": [
       "torch.Size([1, 1, 4, 4])"
      ]
     },
     "execution_count": 95,
     "metadata": {},
     "output_type": "execute_result"
    }
   ],
   "source": [
    "import torch\n",
    "import torch.nn.functional as F \n",
    "\n",
    "a = torch.rand(1, 1, 4, 4)\n",
    "b = torch.rand(1, 1, 4, 4)\n",
    "loss = F.mse_loss(a, b, reduction=\"none\")\n",
    "\n",
    "# loss.shape"
   ]
  },
  {
   "cell_type": "code",
   "execution_count": 57,
   "metadata": {},
   "outputs": [
    {
     "name": "stdout",
     "output_type": "stream",
     "text": [
      "[[ 0.  0.]\n",
      " [63.  0.]\n",
      " [63. 63.]\n",
      " [ 0. 63.]]\n"
     ]
    },
    {
     "data": {
      "image/png": "[encoded data removed]",
      "text/plain": [
       "<PIL.Image.Image image mode=L size=128x128 at 0x7F06FCD5EA90>"
      ]
     },
     "execution_count": 57,
     "metadata": {},
     "output_type": "execute_result"
    }
   ],
   "source": [
    "import numpy as np\n",
    "from PIL import Image, ImageDraw\n",
    "\n",
    "import cv2\n",
    "\n",
    "\n",
    "w, h = 64, 64\n",
    "center = w // 2\n",
    "sigma = 18.5\n",
    "\n",
    "gaussian_heatmap = np.zeros([w, h], dtype=np.float32)\n",
    "for i_ in range(w):\n",
    "    for j_ in range(h):\n",
    "        gaussian_heatmap[i_, j_] = 1 / 2 / np.pi / (sigma ** 2) * np.exp(-1 / 2 * ((i_ - center) ** 2 + (j_ - center) ** 2) / (sigma ** 2))\n",
    "\n",
    "gaussian_heatmap = (gaussian_heatmap / np.max(gaussian_heatmap) * 255).astype(np.uint8)\n",
    "# gaussian_heatmap = np.clip(gaussian_heatmap, 20, 255)\n",
    "gaussian_heatmap[gaussian_heatmap < 50] = 0\n",
    "\n",
    "\n",
    "# im = Image.new(\"L\", (64, 64))\n",
    "\n",
    "\n",
    "# transformed = four_point_transform(heatmap, bbox.astype(np.float32), [image.shape[0], image.shape[1]])\n",
    "# image = np.maximum(image, transformed)\n",
    "\n",
    "\n",
    "def warp(image, pts=[[20, 10], [80, 10], [80, 80], [10, 80]], size=(128, 128)):\n",
    "    height, width = size\n",
    "\n",
    "    center_pt = np.mean(pts, axis=0)\n",
    "    pts = pts - center_pt[None, :]\n",
    "#     pts = pts*center/config.threshold_point\n",
    "    pts = pts*center/25\n",
    "    pts = pts + center_pt[None, :]\n",
    "\n",
    "    src = np.array([\n",
    "        [0, 0],\n",
    "        [image.shape[1] - 1, 0],\n",
    "        [image.shape[1] - 1, image.shape[0] - 1],\n",
    "        [0, image.shape[0] - 1]], dtype=\"float32\")\n",
    "    dst = np.array(pts, dtype=np.float32)\n",
    "    print(src)\n",
    "    return cv2.warpPerspective(image, cv2.getPerspectiveTransform(src, dst), (width, height))\n",
    "\n",
    "# im\n",
    "# gaussian_heatmap\n",
    "# im = Image.fromarray(np.uint8(gaussian_heatmap))\n",
    "# np.array(im).shape\n",
    "\n",
    "# Image.fromarray(warp(gaussian_heatmap))\n",
    "im = warp(gaussian_heatmap)\n",
    "# im.shape\n",
    "\n",
    "Image.fromarray(im)\n",
    "\n",
    "# image = gaussian_heatmap\n",
    "\n",
    "# src = np.array([[0,0],[0, 0],[70,420],[420,70]],np.float32)\n",
    "# dst = np.array([[0,0],[299,299],[0,299],[299,0]],np.float32)\n",
    "# trans = cv2.getPerspectiveTransform(src,dst)\n",
    "# trans\n",
    "\n",
    "# cv2.warpPerspective(image, cv2.getPerspectiveTransform(src, dst), (width, height))\n",
    "# transformed = image.transform(\n",
    "#     image.size, Image.PERSPECTIVE,\n",
    "#     [\n",
    "#         a0, a1, a2, \n",
    "#         a3, a4, a5,\n",
    "#         a6, a7\n",
    "#     ],\n",
    "#     Image.BILINEAR\n",
    "# )\n",
    "\n"
   ]
  },
  {
   "cell_type": "code",
   "execution_count": 92,
   "metadata": {},
   "outputs": [
    {
     "data": {
      "image/png": "[encoded data removed]",
      "text/plain": [
       "<Figure size 432x288 with 1 Axes>"
      ]
     },
     "metadata": {
      "needs_background": "light"
     },
     "output_type": "display_data"
    }
   ],
   "source": [
    "import matplotlib.pyplot as plt\n",
    "\n",
    "import numpy as np\n",
    "import cv2\n",
    "from shapely.geometry import Polygon\n",
    "\n",
    "\n",
    "def four_point_transform(image, pts):\n",
    "    max_x, max_y = (\n",
    "        np.max(pts[:, 0]).astype(np.int32),\n",
    "        np.max(pts[:, 1]).astype(np.int32),\n",
    "    )\n",
    "\n",
    "    dst = np.array(\n",
    "        [\n",
    "            [0, 0],\n",
    "            [image.shape[1] - 1, 0],\n",
    "            [image.shape[1] - 1, image.shape[0] - 1],\n",
    "            [0, image.shape[0] - 1],\n",
    "        ],\n",
    "        dtype=\"float32\",\n",
    "    )\n",
    "\n",
    "    M = cv2.getPerspectiveTransform(dst, pts)\n",
    "    warped = cv2.warpPerspective(image, M, (max_x, max_y))\n",
    "\n",
    "    return warped\n",
    "\n",
    "class DataLoader():\n",
    "    def __init__(self):\n",
    "        sigma = 10\n",
    "        spread = 3\n",
    "        extent = int(spread * sigma)\n",
    "        self.gaussian_heatmap = np.zeros([2 * extent, 2 * extent], dtype=np.float32)\n",
    "\n",
    "        for i in range(2 * extent):\n",
    "            for j in range(2 * extent):\n",
    "                self.gaussian_heatmap[i, j] = (\n",
    "                    1\n",
    "                    / 2\n",
    "                    / np.pi\n",
    "                    / (sigma ** 2)\n",
    "                    * np.exp(\n",
    "                        -1\n",
    "                        / 2\n",
    "                        * (\n",
    "                            (i - spread * sigma - 0.5) ** 2\n",
    "                            + (j - spread * sigma - 0.5) ** 2\n",
    "                        )\n",
    "                        / (sigma ** 2)\n",
    "                    )\n",
    "                )\n",
    "\n",
    "        self.gaussian_heatmap = (\n",
    "            self.gaussian_heatmap / np.max(self.gaussian_heatmap) * 255\n",
    "        ).astype(np.uint8)\n",
    "\n",
    "    def add_character(self, image, bbox):\n",
    "\n",
    "        if not Polygon(bbox.reshape([4, 2]).astype(np.int32)).is_valid:\n",
    "            return image\n",
    "        top_left = np.array([np.min(bbox[:, 0]), np.min(bbox[:, 1])]).astype(np.int32)\n",
    "        if top_left[1] > image.shape[0] or top_left[0] > image.shape[1]:\n",
    "            # This means there is some bug in the character bbox\n",
    "            # Will have to look into more depth to understand this\n",
    "            return image\n",
    "        bbox -= top_left[None, :]\n",
    "        transformed = four_point_transform(\n",
    "            self.gaussian_heatmap.copy(), bbox.astype(np.float32)\n",
    "        )\n",
    "\n",
    "        start_row = max(top_left[1], 0) - top_left[1]\n",
    "        start_col = max(top_left[0], 0) - top_left[0]\n",
    "        end_row = min(top_left[1] + transformed.shape[0], image.shape[0])\n",
    "        end_col = min(top_left[0] + transformed.shape[1], image.shape[1])\n",
    "\n",
    "        image[\n",
    "            max(top_left[1], 0) : end_row, max(top_left[0], 0) : end_col\n",
    "        ] += transformed[\n",
    "            start_row : end_row - top_left[1], start_col : end_col - top_left[0]\n",
    "        ]\n",
    "\n",
    "        return image\n",
    "\n",
    "    def generate_target(self, image_size, character_bbox):\n",
    "#         character_bbox = character_bbox.transpose(2, 1, 0)\n",
    "        channel, height, width = image_size\n",
    "\n",
    "        target = np.zeros([height, width], dtype=np.uint8)\n",
    "\n",
    "        for i in range(character_bbox.shape[0]):\n",
    "            target = self.add_character(target, character_bbox[i])\n",
    "\n",
    "        return target / 255, np.float32(target != 0)\n",
    "    \n",
    "d = DataLoader()\n",
    "x, mask = d.generate_target((1, 128, 128), np.array([[[0, 0], [80, 0], [80, 40], [0, 40]]]))\n",
    "plt.imshow(x)\n",
    "plt.show()"
   ]
  },
  {
   "cell_type": "code",
   "execution_count": 79,
   "metadata": {},
   "outputs": [
    {
     "data": {
      "image/png": "[encoded data removed]",
      "text/plain": [
       "<Figure size 432x288 with 1 Axes>"
      ]
     },
     "metadata": {
      "needs_background": "light"
     },
     "output_type": "display_data"
    }
   ],
   "source": [
    "import numpy as np\n",
    "import matplotlib.pyplot as plt\n",
    "from scipy.stats import multivariate_normal\n",
    "\n",
    "# create 2 kernels\n",
    "m1 = (-1,-2)\n",
    "s1 = np.eye(2)\n",
    "k1 = multivariate_normal(mean=m1, cov=s1)\n",
    "\n",
    "m2 = (1,1)\n",
    "s2 = np.eye(2)\n",
    "k2 = multivariate_normal(mean=m2, cov=s2)\n",
    "\n",
    "# create a grid of (x,y) coordinates at which to evaluate the kernels\n",
    "xlim = (-3, 3)\n",
    "ylim = (-3, 3)\n",
    "xres = 100\n",
    "yres = 100\n",
    "\n",
    "x = np.linspace(xlim[0], xlim[1], xres)\n",
    "y = np.linspace(ylim[0], ylim[1], yres)\n",
    "xx, yy = np.meshgrid(x,y)\n",
    "\n",
    "# evaluate kernels at grid points\n",
    "xxyy = np.c_[xx.ravel(), yy.ravel()]\n",
    "zz = k1.pdf(xxyy) + k2.pdf(xxyy)\n",
    "# k1.pdf(xxyy[0])\n",
    "\n",
    "\n",
    "# # reshape and plot image\n",
    "img = zz.reshape((xres,yres))\n",
    "plt.imshow(img)\n",
    "plt.show()"
   ]
  }
 ],
 "metadata": {
  "kernelspec": {
   "display_name": "Python 3",
   "language": "python",
   "name": "python3"
  },
  "language_info": {
   "codemirror_mode": {
    "name": "ipython",
    "version": 3
   },
   "file_extension": ".py",
   "mimetype": "text/x-python",
   "name": "python",
   "nbconvert_exporter": "python",
   "pygments_lexer": "ipython3",
   "version": "3.6.9"
  }
 },
 "nbformat": 4,
 "nbformat_minor": 2
}
